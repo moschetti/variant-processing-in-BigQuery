{
  "nbformat": 4,
  "nbformat_minor": 0,
  "metadata": {
    "environment": {
      "name": "common-cpu.m55",
      "type": "gcloud",
      "uri": "gcr.io/deeplearning-platform-release/base-cpu:m55"
    },
    "kernelspec": {
      "display_name": "Python 3",
      "language": "python",
      "name": "python3"
    },
    "language_info": {
      "codemirror_mode": {
        "name": "ipython",
        "version": 3
      },
      "file_extension": ".py",
      "mimetype": "text/x-python",
      "name": "python",
      "nbconvert_exporter": "python",
      "pygments_lexer": "ipython3",
      "version": "3.7.8"
    },
    "colab": {
      "name": "gnomAD.ipynb",
      "provenance": []
    }
  },
  "cells": [
    {
      "cell_type": "markdown",
      "metadata": {
        "id": "KiFAYj0Jhm8_"
      },
      "source": [
        "# Sample Notebook for exploring gnomAD in BigQuery\n",
        "This notebook contains sample queries to explore the gnomAD dataset which is hosted through the Google Cloud Public Datasets Program."
      ]
    },
    {
      "cell_type": "markdown",
      "metadata": {
        "id": "pW09tTZBh9zq"
      },
      "source": [
        "## Setup and Authentication\n",
        "\n",
        "If you just want to look at sample results, you can scroll down to see the output of the existing queries without having to run anything. If you would like to re-run the queries or make changes, you will need to authenticate as your user and set the Google Cloud project in which to run the analysis."
      ]
    },
    {
      "cell_type": "code",
      "metadata": {
        "id": "QG8bvNuTgRji"
      },
      "source": [
        "# Import libraries\n",
        "import os\n",
        "\n",
        "# Imports for using and authenticating BigQuery\n",
        "from google.colab import auth\n",
        "%load_ext google.cloud.bigquery"
      ],
      "execution_count": 1,
      "outputs": []
    },
    {
      "cell_type": "markdown",
      "metadata": {
        "id": "54BmRpw3imuP"
      },
      "source": [
        "### User Authentication\n",
        "Before running any queries using BigQuery, you need to first authenticate yourself by running the following cell. If you are running it for the first time, it will ask you to follow a link to log in using your Google identity account, and accept the data access requests to your profile. Once this is done, it will generate a string of verification code, which you should paste back to the cell below and press enter. This should be a Google account which you can login to and which has access to run BigQuery jobs in the Google Cloud project specified in the next step."
      ]
    },
    {
      "cell_type": "code",
      "metadata": {
        "id": "VJGkLDCDgnuc"
      },
      "source": [
        "auth.authenticate_user()"
      ],
      "execution_count": 2,
      "outputs": []
    },
    {
      "cell_type": "markdown",
      "metadata": {
        "id": "FoYinYtci5Iv"
      },
      "source": [
        "### Set Google Cloud Project\n",
        "To run queries in BigQuery, you need to specify the Google Cloud project that will be used. The first 1 TB of query data processed per month is free. For more details, see the [BigQuery Pricing](https://cloud.google.com/bigquery/pricing) page.\n",
        "\n",
        "To find your Project ID, go to the [Project Settings page](https://console.cloud.google.com/iam-admin/settings) in the Google [Cloud Console](https://console.cloud.google.com/). You can select the project you want using the drop-down menu at the top of the page."
      ]
    },
    {
      "cell_type": "code",
      "metadata": {
        "id": "nkUF1y9IhDla"
      },
      "source": [
        "# Replace project_id with your Google Cloud Project ID. \n",
        "os.environ[\"GOOGLE_CLOUD_PROJECT\"]='project_id'"
      ],
      "execution_count": 3,
      "outputs": []
    },
    {
      "cell_type": "markdown",
      "metadata": {
        "id": "Q_4WJXG9gRjm"
      },
      "source": [
        "# gnomAD Queries\n",
        "## Query1\n",
        "Find 10,000 SNV on chr17 that are more common in women than men, min sample size set to 30."
      ]
    },
    {
      "cell_type": "code",
      "metadata": {
        "id": "5c3FX1iDgRjn"
      },
      "source": [
        "%%bigquery result1\n",
        "SELECT DISTINCT \n",
        "       start_position AS str_pos,\n",
        "       reference_bases AS ref,\n",
        "       alternate_bases.alt AS alt,\n",
        "       alternate_bases.allele_type AS type,\n",
        "       vep.SYMBOL AS gene,\n",
        "       vep.feature_type AS f_type,\n",
        "       alternate_bases.AC AS AC,\n",
        "       alternate_bases.AC_female AS AC_f,\n",
        "       alternate_bases.AC_male AS AC_m,\n",
        "       ROUND(alternate_bases.AC_female / alternate_bases.AC, 3) AS f_ratio\n",
        "FROM `bigquery-public-data.gnomAD.v2_1_1_exomes__chr17` AS main_table,\n",
        "     main_table.alternate_bases AS alternate_bases,\n",
        "     alternate_bases.vep AS vep\n",
        "WHERE alternate_bases.AC > 30 AND vep.SYMBOL IS NOT NULL\n",
        "ORDER BY f_ratio DESC\n",
        "LIMIT 10000\n"
      ],
      "execution_count": 4,
      "outputs": []
    },
    {
      "cell_type": "code",
      "metadata": {
        "id": "yBtK4tcBgRjq",
        "outputId": "92c72f8e-2468-454e-e76d-64af76142e4a",
        "colab": {
          "base_uri": "https://localhost:8080/",
          "height": 204
        }
      },
      "source": [
        "result1.head()"
      ],
      "execution_count": 5,
      "outputs": [
        {
          "output_type": "execute_result",
          "data": {
            "text/html": [
              "<div>\n",
              "<style scoped>\n",
              "    .dataframe tbody tr th:only-of-type {\n",
              "        vertical-align: middle;\n",
              "    }\n",
              "\n",
              "    .dataframe tbody tr th {\n",
              "        vertical-align: top;\n",
              "    }\n",
              "\n",
              "    .dataframe thead th {\n",
              "        text-align: right;\n",
              "    }\n",
              "</style>\n",
              "<table border=\"1\" class=\"dataframe\">\n",
              "  <thead>\n",
              "    <tr style=\"text-align: right;\">\n",
              "      <th></th>\n",
              "      <th>str_pos</th>\n",
              "      <th>ref</th>\n",
              "      <th>alt</th>\n",
              "      <th>type</th>\n",
              "      <th>gene</th>\n",
              "      <th>f_type</th>\n",
              "      <th>AC</th>\n",
              "      <th>AC_f</th>\n",
              "      <th>AC_m</th>\n",
              "      <th>f_ratio</th>\n",
              "    </tr>\n",
              "  </thead>\n",
              "  <tbody>\n",
              "    <tr>\n",
              "      <th>0</th>\n",
              "      <td>79140505</td>\n",
              "      <td>A</td>\n",
              "      <td>C</td>\n",
              "      <td>snv</td>\n",
              "      <td>AATK</td>\n",
              "      <td>Transcript</td>\n",
              "      <td>41</td>\n",
              "      <td>39</td>\n",
              "      <td>2</td>\n",
              "      <td>0.951</td>\n",
              "    </tr>\n",
              "    <tr>\n",
              "      <th>1</th>\n",
              "      <td>79140505</td>\n",
              "      <td>A</td>\n",
              "      <td>C</td>\n",
              "      <td>snv</td>\n",
              "      <td>AATK-AS1</td>\n",
              "      <td>Transcript</td>\n",
              "      <td>41</td>\n",
              "      <td>39</td>\n",
              "      <td>2</td>\n",
              "      <td>0.951</td>\n",
              "    </tr>\n",
              "    <tr>\n",
              "      <th>2</th>\n",
              "      <td>33998749</td>\n",
              "      <td>T</td>\n",
              "      <td>TC</td>\n",
              "      <td>ins</td>\n",
              "      <td>AP2B1</td>\n",
              "      <td>Transcript</td>\n",
              "      <td>37</td>\n",
              "      <td>35</td>\n",
              "      <td>2</td>\n",
              "      <td>0.946</td>\n",
              "    </tr>\n",
              "    <tr>\n",
              "      <th>3</th>\n",
              "      <td>7221462</td>\n",
              "      <td>T</td>\n",
              "      <td>G</td>\n",
              "      <td>snv</td>\n",
              "      <td>GPS2</td>\n",
              "      <td>Transcript</td>\n",
              "      <td>80</td>\n",
              "      <td>75</td>\n",
              "      <td>5</td>\n",
              "      <td>0.938</td>\n",
              "    </tr>\n",
              "    <tr>\n",
              "      <th>4</th>\n",
              "      <td>7221462</td>\n",
              "      <td>T</td>\n",
              "      <td>G</td>\n",
              "      <td>snv</td>\n",
              "      <td>NEURL4</td>\n",
              "      <td>Transcript</td>\n",
              "      <td>80</td>\n",
              "      <td>75</td>\n",
              "      <td>5</td>\n",
              "      <td>0.938</td>\n",
              "    </tr>\n",
              "  </tbody>\n",
              "</table>\n",
              "</div>"
            ],
            "text/plain": [
              "    str_pos ref alt type      gene      f_type  AC  AC_f  AC_m  f_ratio\n",
              "0  79140505   A   C  snv      AATK  Transcript  41    39     2    0.951\n",
              "1  79140505   A   C  snv  AATK-AS1  Transcript  41    39     2    0.951\n",
              "2  33998749   T  TC  ins     AP2B1  Transcript  37    35     2    0.946\n",
              "3   7221462   T   G  snv      GPS2  Transcript  80    75     5    0.938\n",
              "4   7221462   T   G  snv    NEURL4  Transcript  80    75     5    0.938"
            ]
          },
          "metadata": {
            "tags": []
          },
          "execution_count": 5
        }
      ]
    },
    {
      "cell_type": "markdown",
      "metadata": {
        "id": "wNry4e68gRjt"
      },
      "source": [
        "We can condensed the result and only list gene symbols and the number of variants found in the query1."
      ]
    },
    {
      "cell_type": "code",
      "metadata": {
        "id": "GtPLHpwkgRju",
        "outputId": "f7a915b5-3172-4952-e8ce-272a034ffa40",
        "colab": {
          "base_uri": "https://localhost:8080/",
          "height": 235
        }
      },
      "source": [
        "result1.groupby('gene').count()[['str_pos']].sort_values(by=['str_pos'], ascending=False).head()"
      ],
      "execution_count": 6,
      "outputs": [
        {
          "output_type": "execute_result",
          "data": {
            "text/html": [
              "<div>\n",
              "<style scoped>\n",
              "    .dataframe tbody tr th:only-of-type {\n",
              "        vertical-align: middle;\n",
              "    }\n",
              "\n",
              "    .dataframe tbody tr th {\n",
              "        vertical-align: top;\n",
              "    }\n",
              "\n",
              "    .dataframe thead th {\n",
              "        text-align: right;\n",
              "    }\n",
              "</style>\n",
              "<table border=\"1\" class=\"dataframe\">\n",
              "  <thead>\n",
              "    <tr style=\"text-align: right;\">\n",
              "      <th></th>\n",
              "      <th>str_pos</th>\n",
              "    </tr>\n",
              "    <tr>\n",
              "      <th>gene</th>\n",
              "      <th></th>\n",
              "    </tr>\n",
              "  </thead>\n",
              "  <tbody>\n",
              "    <tr>\n",
              "      <th>DNAH17</th>\n",
              "      <td>72</td>\n",
              "    </tr>\n",
              "    <tr>\n",
              "      <th>CTC-297N7.11</th>\n",
              "      <td>65</td>\n",
              "    </tr>\n",
              "    <tr>\n",
              "      <th>RP11-799N11.1</th>\n",
              "      <td>61</td>\n",
              "    </tr>\n",
              "    <tr>\n",
              "      <th>RNF213</th>\n",
              "      <td>58</td>\n",
              "    </tr>\n",
              "    <tr>\n",
              "      <th>DNAH9</th>\n",
              "      <td>54</td>\n",
              "    </tr>\n",
              "  </tbody>\n",
              "</table>\n",
              "</div>"
            ],
            "text/plain": [
              "               str_pos\n",
              "gene                  \n",
              "DNAH17              72\n",
              "CTC-297N7.11        65\n",
              "RP11-799N11.1       61\n",
              "RNF213              58\n",
              "DNAH9               54"
            ]
          },
          "metadata": {
            "tags": []
          },
          "execution_count": 6
        }
      ]
    },
    {
      "cell_type": "markdown",
      "metadata": {
        "id": "0z4TaZvogRjy"
      },
      "source": [
        "## Query2\n",
        "Find top 1,000 SNV on chr17 that show the most significant differences between male samples of African-American ancestry versus Finnish ancestry"
      ]
    },
    {
      "cell_type": "code",
      "metadata": {
        "id": "xrhtH1RRgRjy"
      },
      "source": [
        "%%bigquery result2\n",
        "SELECT DISTINCT \n",
        "       start_position AS str_pos,\n",
        "       reference_bases AS ref,\n",
        "       alternate_bases.alt AS alt,\n",
        "       alternate_bases.allele_type AS type,\n",
        "       vep.SYMBOL AS gene,\n",
        "       vep.feature_type AS f_type,\n",
        "       alternate_bases.AC_male AS AC_m,\n",
        "       alternate_bases.AC_fin_male AS AC_fin_m,\n",
        "       alternate_bases.AC_afr_male AS AC_afr_m,\n",
        "       ROUND(ABS(alternate_bases.AC_fin_male - alternate_bases.AC_afr_male) / alternate_bases.AC_male, 3) AS fin_afr_diff\n",
        "FROM `bigquery-public-data.gnomAD.v2_1_1_exomes__chr17` AS main_table,\n",
        "     main_table.alternate_bases AS alternate_bases,\n",
        "     alternate_bases.vep AS vep\n",
        "WHERE vep.SYMBOL IS NOT NULL AND\n",
        "      alternate_bases.AC_male > 20 AND alternate_bases.AC_fin_male > 0 AND alternate_bases.AC_afr_male > 0\n",
        "order by fin_afr_diff DESC\n",
        "LIMIT 1000"
      ],
      "execution_count": 7,
      "outputs": []
    },
    {
      "cell_type": "code",
      "metadata": {
        "id": "pZ3fWK6ugRj1",
        "outputId": "bdd7c305-0a17-4890-fbfb-7a064dd79dbd",
        "colab": {
          "base_uri": "https://localhost:8080/",
          "height": 204
        }
      },
      "source": [
        "result2.head()"
      ],
      "execution_count": 8,
      "outputs": [
        {
          "output_type": "execute_result",
          "data": {
            "text/html": [
              "<div>\n",
              "<style scoped>\n",
              "    .dataframe tbody tr th:only-of-type {\n",
              "        vertical-align: middle;\n",
              "    }\n",
              "\n",
              "    .dataframe tbody tr th {\n",
              "        vertical-align: top;\n",
              "    }\n",
              "\n",
              "    .dataframe thead th {\n",
              "        text-align: right;\n",
              "    }\n",
              "</style>\n",
              "<table border=\"1\" class=\"dataframe\">\n",
              "  <thead>\n",
              "    <tr style=\"text-align: right;\">\n",
              "      <th></th>\n",
              "      <th>str_pos</th>\n",
              "      <th>ref</th>\n",
              "      <th>alt</th>\n",
              "      <th>type</th>\n",
              "      <th>gene</th>\n",
              "      <th>f_type</th>\n",
              "      <th>AC_m</th>\n",
              "      <th>AC_fin_m</th>\n",
              "      <th>AC_afr_m</th>\n",
              "      <th>fin_afr_diff</th>\n",
              "    </tr>\n",
              "  </thead>\n",
              "  <tbody>\n",
              "    <tr>\n",
              "      <th>0</th>\n",
              "      <td>76557038</td>\n",
              "      <td>G</td>\n",
              "      <td>A</td>\n",
              "      <td>snv</td>\n",
              "      <td>DNAH17</td>\n",
              "      <td>Transcript</td>\n",
              "      <td>56</td>\n",
              "      <td>53</td>\n",
              "      <td>1</td>\n",
              "      <td>0.929</td>\n",
              "    </tr>\n",
              "    <tr>\n",
              "      <th>1</th>\n",
              "      <td>76116856</td>\n",
              "      <td>C</td>\n",
              "      <td>T</td>\n",
              "      <td>snv</td>\n",
              "      <td>TMC6</td>\n",
              "      <td>Transcript</td>\n",
              "      <td>247</td>\n",
              "      <td>228</td>\n",
              "      <td>1</td>\n",
              "      <td>0.919</td>\n",
              "    </tr>\n",
              "    <tr>\n",
              "      <th>2</th>\n",
              "      <td>6900268</td>\n",
              "      <td>G</td>\n",
              "      <td>A</td>\n",
              "      <td>snv</td>\n",
              "      <td>RP11-589P10.5</td>\n",
              "      <td>Transcript</td>\n",
              "      <td>34</td>\n",
              "      <td>32</td>\n",
              "      <td>1</td>\n",
              "      <td>0.912</td>\n",
              "    </tr>\n",
              "    <tr>\n",
              "      <th>3</th>\n",
              "      <td>6900268</td>\n",
              "      <td>G</td>\n",
              "      <td>A</td>\n",
              "      <td>snv</td>\n",
              "      <td>AC027763.2</td>\n",
              "      <td>Transcript</td>\n",
              "      <td>34</td>\n",
              "      <td>32</td>\n",
              "      <td>1</td>\n",
              "      <td>0.912</td>\n",
              "    </tr>\n",
              "    <tr>\n",
              "      <th>4</th>\n",
              "      <td>6900268</td>\n",
              "      <td>G</td>\n",
              "      <td>A</td>\n",
              "      <td>snv</td>\n",
              "      <td>ALOX12</td>\n",
              "      <td>Transcript</td>\n",
              "      <td>34</td>\n",
              "      <td>32</td>\n",
              "      <td>1</td>\n",
              "      <td>0.912</td>\n",
              "    </tr>\n",
              "  </tbody>\n",
              "</table>\n",
              "</div>"
            ],
            "text/plain": [
              "    str_pos ref alt type  ... AC_m AC_fin_m  AC_afr_m  fin_afr_diff\n",
              "0  76557038   G   A  snv  ...   56       53         1         0.929\n",
              "1  76116856   C   T  snv  ...  247      228         1         0.919\n",
              "2   6900268   G   A  snv  ...   34       32         1         0.912\n",
              "3   6900268   G   A  snv  ...   34       32         1         0.912\n",
              "4   6900268   G   A  snv  ...   34       32         1         0.912\n",
              "\n",
              "[5 rows x 10 columns]"
            ]
          },
          "metadata": {
            "tags": []
          },
          "execution_count": 8
        }
      ]
    },
    {
      "cell_type": "markdown",
      "metadata": {
        "id": "ZQWx-sXhgRj4"
      },
      "source": [
        "## Query3\n",
        "Find top 1000 genes with the highest number of SNV on chr17"
      ]
    },
    {
      "cell_type": "code",
      "metadata": {
        "id": "PZ1SZXxegRj5"
      },
      "source": [
        "%%bigquery result3\n",
        "SELECT gene, count(1) AS num_snv\n",
        "FROM\n",
        "(\n",
        "SELECT DISTINCT \n",
        "       start_position AS str_pos,\n",
        "       alternate_bases.alt AS alt,\n",
        "       vep.SYMBOL AS gene,\n",
        "FROM `bigquery-public-data.gnomAD.v2_1_1_exomes__chr17` AS main_table,\n",
        "     main_table.alternate_bases AS alternate_bases,\n",
        "     alternate_bases.vep AS vep\n",
        "WHERE vep.SYMBOL IS NOT NULL AND alternate_bases.allele_type = 'snv'\n",
        ")\n",
        "GROUP BY 1\n",
        "ORDER BY 2 DESC\n",
        "LIMIT 1000"
      ],
      "execution_count": 9,
      "outputs": []
    },
    {
      "cell_type": "code",
      "metadata": {
        "id": "_hYWM9rCgRj7",
        "outputId": "8a986c2e-7183-4b91-c814-a81d8ceb5b90",
        "colab": {
          "base_uri": "https://localhost:8080/",
          "height": 204
        }
      },
      "source": [
        "result3.head()"
      ],
      "execution_count": 10,
      "outputs": [
        {
          "output_type": "execute_result",
          "data": {
            "text/html": [
              "<div>\n",
              "<style scoped>\n",
              "    .dataframe tbody tr th:only-of-type {\n",
              "        vertical-align: middle;\n",
              "    }\n",
              "\n",
              "    .dataframe tbody tr th {\n",
              "        vertical-align: top;\n",
              "    }\n",
              "\n",
              "    .dataframe thead th {\n",
              "        text-align: right;\n",
              "    }\n",
              "</style>\n",
              "<table border=\"1\" class=\"dataframe\">\n",
              "  <thead>\n",
              "    <tr style=\"text-align: right;\">\n",
              "      <th></th>\n",
              "      <th>gene</th>\n",
              "      <th>num_snv</th>\n",
              "    </tr>\n",
              "  </thead>\n",
              "  <tbody>\n",
              "    <tr>\n",
              "      <th>0</th>\n",
              "      <td>CTC-297N7.11</td>\n",
              "      <td>9589</td>\n",
              "    </tr>\n",
              "    <tr>\n",
              "      <th>1</th>\n",
              "      <td>DNAH17</td>\n",
              "      <td>9208</td>\n",
              "    </tr>\n",
              "    <tr>\n",
              "      <th>2</th>\n",
              "      <td>RP11-799N11.1</td>\n",
              "      <td>9190</td>\n",
              "    </tr>\n",
              "    <tr>\n",
              "      <th>3</th>\n",
              "      <td>RNF213</td>\n",
              "      <td>6561</td>\n",
              "    </tr>\n",
              "    <tr>\n",
              "      <th>4</th>\n",
              "      <td>DNAH2</td>\n",
              "      <td>6361</td>\n",
              "    </tr>\n",
              "  </tbody>\n",
              "</table>\n",
              "</div>"
            ],
            "text/plain": [
              "            gene  num_snv\n",
              "0   CTC-297N7.11     9589\n",
              "1         DNAH17     9208\n",
              "2  RP11-799N11.1     9190\n",
              "3         RNF213     6561\n",
              "4          DNAH2     6361"
            ]
          },
          "metadata": {
            "tags": []
          },
          "execution_count": 10
        }
      ]
    }
  ]
}